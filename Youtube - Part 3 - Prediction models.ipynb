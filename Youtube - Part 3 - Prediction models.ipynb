{
 "cells": [
  {
   "cell_type": "markdown",
   "metadata": {},
   "source": [
    "# Predict Success of Youtuber Influences\n",
    "## Part 3: Prediction models\n",
    "#### 11/20/2017, Julianne Freeman"
   ]
  },
  {
   "cell_type": "code",
   "execution_count": 83,
   "metadata": {
    "collapsed": false
   },
   "outputs": [
    {
     "name": "stdout",
     "output_type": "stream",
     "text": [
      "The autoreload extension is already loaded. To reload it, use:\n",
      "  %reload_ext autoreload\n",
      "The version_information extension is already loaded. To reload it, use:\n",
      "  %reload_ext version_information\n"
     ]
    },
    {
     "data": {
      "application/json": {
       "Software versions": [
        {
         "module": "Python",
         "version": "3.6.0 64bit [GCC 4.2.1 Compatible Apple LLVM 6.0 (clang-600.0.57)]"
        },
        {
         "module": "IPython",
         "version": "5.1.0"
        },
        {
         "module": "OS",
         "version": "Darwin 16.1.0 x86_64 i386 64bit"
        },
        {
         "module": "numpy",
         "version": "1.11.3"
        },
        {
         "module": "scipy",
         "version": "0.18.1"
        },
        {
         "module": "matplotlib",
         "version": "2.0.0"
        },
        {
         "module": "pandas",
         "version": "0.19.2"
        }
       ]
      },
      "text/html": [
       "<table><tr><th>Software</th><th>Version</th></tr><tr><td>Python</td><td>3.6.0 64bit [GCC 4.2.1 Compatible Apple LLVM 6.0 (clang-600.0.57)]</td></tr><tr><td>IPython</td><td>5.1.0</td></tr><tr><td>OS</td><td>Darwin 16.1.0 x86_64 i386 64bit</td></tr><tr><td>numpy</td><td>1.11.3</td></tr><tr><td>scipy</td><td>0.18.1</td></tr><tr><td>matplotlib</td><td>2.0.0</td></tr><tr><td>pandas</td><td>0.19.2</td></tr><tr><td colspan='2'>Sun Nov 26 22:13:06 2017 EST</td></tr></table>"
      ],
      "text/latex": [
       "\\begin{tabular}{|l|l|}\\hline\n",
       "{\\bf Software} & {\\bf Version} \\\\ \\hline\\hline\n",
       "Python & 3.6.0 64bit [GCC 4.2.1 Compatible Apple LLVM 6.0 (clang-600.0.57)] \\\\ \\hline\n",
       "IPython & 5.1.0 \\\\ \\hline\n",
       "OS & Darwin 16.1.0 x86\\_64 i386 64bit \\\\ \\hline\n",
       "numpy & 1.11.3 \\\\ \\hline\n",
       "scipy & 0.18.1 \\\\ \\hline\n",
       "matplotlib & 2.0.0 \\\\ \\hline\n",
       "pandas & 0.19.2 \\\\ \\hline\n",
       "\\hline \\multicolumn{2}{|l|}{Sun Nov 26 22:13:06 2017 EST} \\\\ \\hline\n",
       "\\end{tabular}\n"
      ],
      "text/plain": [
       "Software versions\n",
       "Python 3.6.0 64bit [GCC 4.2.1 Compatible Apple LLVM 6.0 (clang-600.0.57)]\n",
       "IPython 5.1.0\n",
       "OS Darwin 16.1.0 x86_64 i386 64bit\n",
       "numpy 1.11.3\n",
       "scipy 0.18.1\n",
       "matplotlib 2.0.0\n",
       "pandas 0.19.2\n",
       "Sun Nov 26 22:13:06 2017 EST"
      ]
     },
     "execution_count": 83,
     "metadata": {},
     "output_type": "execute_result"
    }
   ],
   "source": [
    "%matplotlib inline\n",
    "%load_ext autoreload\n",
    "%autoreload 2\n",
    "%load_ext version_information\n",
    "%version_information numpy, scipy, matplotlib, pandas"
   ]
  },
  {
   "cell_type": "code",
   "execution_count": 84,
   "metadata": {
    "collapsed": true
   },
   "outputs": [],
   "source": [
    "from __future__ import division\n",
    "from datetime import datetime \n",
    "import requests\n",
    "from lxml import html, etree\n",
    "import json\n",
    "from textblob import TextBlob\n",
    "import pandas as pd\n",
    "import numpy as np\n",
    "import matplotlib.pyplot as plt\n",
    "import warnings\n",
    "from collections import Counter\n",
    "\n",
    "#never print matching warnings\n",
    "warnings.filterwarnings('ignore') \n",
    "\n",
    "#set how pandas displays data\n",
    "pd.options.display.max_columns = 100\n",
    "pd.options.display.max_rows = 35\n",
    "pd.options.display.width = 120\n",
    "\n",
    "#change the max # of rows pandas will display\n",
    "pd.options.display.max_rows = 4000\n",
    "\n",
    "#set to display all output\n",
    "from IPython.core.interactiveshell import InteractiveShell\n",
    "InteractiveShell.ast_node_interactivity = \"all\"\n",
    "\n",
    "#import seaborn to draw pretty graphs\n",
    "import seaborn as sns\n",
    "sns.set_style('whitegrid')"
   ]
  },
  {
   "cell_type": "markdown",
   "metadata": {},
   "source": [
    "# Step 1: Prep variables to used in models"
   ]
  },
  {
   "cell_type": "markdown",
   "metadata": {},
   "source": [
    "From Part 2, I determined the following variables are likely to have a predictive role in determining viewCount\n",
    "- type (gaming, family, ect.)\n",
    "- type_of_day\n",
    "- title_length\n",
    "- season"
   ]
  },
  {
   "cell_type": "code",
   "execution_count": 141,
   "metadata": {
    "collapsed": false
   },
   "outputs": [
    {
     "data": {
      "text/html": [
       "<div>\n",
       "<table border=\"1\" class=\"dataframe\">\n",
       "  <thead>\n",
       "    <tr style=\"text-align: right;\">\n",
       "      <th></th>\n",
       "      <th>Unnamed: 0</th>\n",
       "      <th>Unnamed: 0.1</th>\n",
       "      <th>commentCount</th>\n",
       "      <th>dislikeCount</th>\n",
       "      <th>favoriteCount</th>\n",
       "      <th>likeCount</th>\n",
       "      <th>viewCount</th>\n",
       "      <th>video_id</th>\n",
       "      <th>publishedAt</th>\n",
       "      <th>date</th>\n",
       "      <th>week</th>\n",
       "      <th>channelId</th>\n",
       "      <th>title</th>\n",
       "      <th>description</th>\n",
       "      <th>channelTitle</th>\n",
       "      <th>categoryId</th>\n",
       "      <th>key_word</th>\n",
       "      <th>type</th>\n",
       "      <th>duration</th>\n",
       "      <th>hours</th>\n",
       "      <th>minutes</th>\n",
       "      <th>seconds</th>\n",
       "      <th>total_mins</th>\n",
       "      <th>total_secs</th>\n",
       "      <th>year</th>\n",
       "      <th>month</th>\n",
       "      <th>yearmonth</th>\n",
       "      <th>vlog</th>\n",
       "      <th>title_length</th>\n",
       "      <th>description_length</th>\n",
       "      <th>title_channel</th>\n",
       "      <th>month_name</th>\n",
       "      <th>season</th>\n",
       "      <th>day_of_week</th>\n",
       "      <th>type_of_day</th>\n",
       "      <th>series</th>\n",
       "    </tr>\n",
       "  </thead>\n",
       "  <tbody>\n",
       "    <tr>\n",
       "      <th>0</th>\n",
       "      <td>0</td>\n",
       "      <td>0</td>\n",
       "      <td>739.0</td>\n",
       "      <td>191.0</td>\n",
       "      <td>0</td>\n",
       "      <td>11178.0</td>\n",
       "      <td>274412.0</td>\n",
       "      <td>zfmi2JatvlY</td>\n",
       "      <td>2016-06-24 23:22:46</td>\n",
       "      <td>2016-06-24 00:00:00</td>\n",
       "      <td>25</td>\n",
       "      <td>UCDHQbU57NZilrhbuZNbQcRA</td>\n",
       "      <td>WHAT'S IN MY TRAVEL BAG | PatrickStarrr</td>\n",
       "      <td>Hey everyone! I've been traveling a lot lately...</td>\n",
       "      <td>PatrickStarrr</td>\n",
       "      <td>26</td>\n",
       "      <td>NaN</td>\n",
       "      <td>beauty</td>\n",
       "      <td>PT15M</td>\n",
       "      <td>0</td>\n",
       "      <td>15</td>\n",
       "      <td>0</td>\n",
       "      <td>15</td>\n",
       "      <td>900</td>\n",
       "      <td>2016</td>\n",
       "      <td>6</td>\n",
       "      <td>201606</td>\n",
       "      <td>notvlog</td>\n",
       "      <td>39</td>\n",
       "      <td>1516</td>\n",
       "      <td>includes_CT</td>\n",
       "      <td>June</td>\n",
       "      <td>summer</td>\n",
       "      <td>Fri</td>\n",
       "      <td>weekday</td>\n",
       "      <td>no</td>\n",
       "    </tr>\n",
       "    <tr>\n",
       "      <th>1</th>\n",
       "      <td>1</td>\n",
       "      <td>1</td>\n",
       "      <td>1010.0</td>\n",
       "      <td>224.0</td>\n",
       "      <td>0</td>\n",
       "      <td>11737.0</td>\n",
       "      <td>319477.0</td>\n",
       "      <td>XlawoU0xCwQ</td>\n",
       "      <td>2016-06-23 02:46:20</td>\n",
       "      <td>2016-06-23 00:00:00</td>\n",
       "      <td>25</td>\n",
       "      <td>UCDHQbU57NZilrhbuZNbQcRA</td>\n",
       "      <td>I AM A GEISHA | JAPAN VLOG | PatrickStarrr</td>\n",
       "      <td>Discount on TATCHA use code \"PSTARRR\" \\nHuge t...</td>\n",
       "      <td>PatrickStarrr</td>\n",
       "      <td>26</td>\n",
       "      <td>NaN</td>\n",
       "      <td>beauty</td>\n",
       "      <td>PT28M32S</td>\n",
       "      <td>0</td>\n",
       "      <td>28</td>\n",
       "      <td>32</td>\n",
       "      <td>28</td>\n",
       "      <td>1712</td>\n",
       "      <td>2016</td>\n",
       "      <td>6</td>\n",
       "      <td>201606</td>\n",
       "      <td>vlog</td>\n",
       "      <td>42</td>\n",
       "      <td>1595</td>\n",
       "      <td>includes_CT</td>\n",
       "      <td>June</td>\n",
       "      <td>summer</td>\n",
       "      <td>Thurs</td>\n",
       "      <td>weekday</td>\n",
       "      <td>no</td>\n",
       "    </tr>\n",
       "  </tbody>\n",
       "</table>\n",
       "</div>"
      ],
      "text/plain": [
       "   Unnamed: 0  Unnamed: 0.1  commentCount  dislikeCount  favoriteCount  likeCount  viewCount     video_id  \\\n",
       "0           0             0         739.0         191.0              0    11178.0   274412.0  zfmi2JatvlY   \n",
       "1           1             1        1010.0         224.0              0    11737.0   319477.0  XlawoU0xCwQ   \n",
       "\n",
       "           publishedAt                 date  week                 channelId  \\\n",
       "0  2016-06-24 23:22:46  2016-06-24 00:00:00    25  UCDHQbU57NZilrhbuZNbQcRA   \n",
       "1  2016-06-23 02:46:20  2016-06-23 00:00:00    25  UCDHQbU57NZilrhbuZNbQcRA   \n",
       "\n",
       "                                        title                                        description   channelTitle  \\\n",
       "0     WHAT'S IN MY TRAVEL BAG | PatrickStarrr  Hey everyone! I've been traveling a lot lately...  PatrickStarrr   \n",
       "1  I AM A GEISHA | JAPAN VLOG | PatrickStarrr  Discount on TATCHA use code \"PSTARRR\" \\nHuge t...  PatrickStarrr   \n",
       "\n",
       "   categoryId key_word    type  duration  hours  minutes  seconds  total_mins  total_secs  year  month  yearmonth  \\\n",
       "0          26      NaN  beauty     PT15M      0       15        0          15         900  2016      6     201606   \n",
       "1          26      NaN  beauty  PT28M32S      0       28       32          28        1712  2016      6     201606   \n",
       "\n",
       "      vlog  title_length  description_length title_channel month_name  season day_of_week type_of_day series  \n",
       "0  notvlog            39                1516   includes_CT       June  summer         Fri     weekday     no  \n",
       "1     vlog            42                1595   includes_CT       June  summer       Thurs     weekday     no  "
      ]
     },
     "execution_count": 141,
     "metadata": {},
     "output_type": "execute_result"
    }
   ],
   "source": [
    "data=pd.read_csv('Youtube_Project_20171121.csv')\n",
    "data.head(2)"
   ]
  },
  {
   "cell_type": "code",
   "execution_count": 142,
   "metadata": {
    "collapsed": false
   },
   "outputs": [
    {
     "data": {
      "text/html": [
       "<div>\n",
       "<table border=\"1\" class=\"dataframe\">\n",
       "  <thead>\n",
       "    <tr style=\"text-align: right;\">\n",
       "      <th></th>\n",
       "      <th>commentCount</th>\n",
       "      <th>dislikeCount</th>\n",
       "      <th>favoriteCount</th>\n",
       "      <th>likeCount</th>\n",
       "      <th>viewCount</th>\n",
       "      <th>video_id</th>\n",
       "      <th>publishedAt</th>\n",
       "      <th>date</th>\n",
       "      <th>week</th>\n",
       "      <th>channelId</th>\n",
       "      <th>title</th>\n",
       "      <th>description</th>\n",
       "      <th>channelTitle</th>\n",
       "      <th>categoryId</th>\n",
       "      <th>key_word</th>\n",
       "      <th>type</th>\n",
       "      <th>duration</th>\n",
       "      <th>hours</th>\n",
       "      <th>minutes</th>\n",
       "      <th>seconds</th>\n",
       "      <th>total_mins</th>\n",
       "      <th>total_secs</th>\n",
       "      <th>year</th>\n",
       "      <th>month</th>\n",
       "      <th>yearmonth</th>\n",
       "      <th>vlog</th>\n",
       "      <th>title_length</th>\n",
       "      <th>description_length</th>\n",
       "      <th>title_channel</th>\n",
       "      <th>month_name</th>\n",
       "      <th>season</th>\n",
       "      <th>day_of_week</th>\n",
       "      <th>type_of_day</th>\n",
       "      <th>series</th>\n",
       "    </tr>\n",
       "  </thead>\n",
       "  <tbody>\n",
       "    <tr>\n",
       "      <th>0</th>\n",
       "      <td>739.0</td>\n",
       "      <td>191.0</td>\n",
       "      <td>0</td>\n",
       "      <td>11178.0</td>\n",
       "      <td>274412.0</td>\n",
       "      <td>zfmi2JatvlY</td>\n",
       "      <td>2016-06-24 23:22:46</td>\n",
       "      <td>2016-06-24 00:00:00</td>\n",
       "      <td>25</td>\n",
       "      <td>UCDHQbU57NZilrhbuZNbQcRA</td>\n",
       "      <td>WHAT'S IN MY TRAVEL BAG | PatrickStarrr</td>\n",
       "      <td>Hey everyone! I've been traveling a lot lately...</td>\n",
       "      <td>PatrickStarrr</td>\n",
       "      <td>26</td>\n",
       "      <td>NaN</td>\n",
       "      <td>beauty</td>\n",
       "      <td>PT15M</td>\n",
       "      <td>0</td>\n",
       "      <td>15</td>\n",
       "      <td>0</td>\n",
       "      <td>15</td>\n",
       "      <td>900</td>\n",
       "      <td>2016</td>\n",
       "      <td>6</td>\n",
       "      <td>201606</td>\n",
       "      <td>notvlog</td>\n",
       "      <td>39</td>\n",
       "      <td>1516</td>\n",
       "      <td>includes_CT</td>\n",
       "      <td>June</td>\n",
       "      <td>summer</td>\n",
       "      <td>Fri</td>\n",
       "      <td>weekday</td>\n",
       "      <td>no</td>\n",
       "    </tr>\n",
       "    <tr>\n",
       "      <th>1</th>\n",
       "      <td>1010.0</td>\n",
       "      <td>224.0</td>\n",
       "      <td>0</td>\n",
       "      <td>11737.0</td>\n",
       "      <td>319477.0</td>\n",
       "      <td>XlawoU0xCwQ</td>\n",
       "      <td>2016-06-23 02:46:20</td>\n",
       "      <td>2016-06-23 00:00:00</td>\n",
       "      <td>25</td>\n",
       "      <td>UCDHQbU57NZilrhbuZNbQcRA</td>\n",
       "      <td>I AM A GEISHA | JAPAN VLOG | PatrickStarrr</td>\n",
       "      <td>Discount on TATCHA use code \"PSTARRR\" \\nHuge t...</td>\n",
       "      <td>PatrickStarrr</td>\n",
       "      <td>26</td>\n",
       "      <td>NaN</td>\n",
       "      <td>beauty</td>\n",
       "      <td>PT28M32S</td>\n",
       "      <td>0</td>\n",
       "      <td>28</td>\n",
       "      <td>32</td>\n",
       "      <td>28</td>\n",
       "      <td>1712</td>\n",
       "      <td>2016</td>\n",
       "      <td>6</td>\n",
       "      <td>201606</td>\n",
       "      <td>vlog</td>\n",
       "      <td>42</td>\n",
       "      <td>1595</td>\n",
       "      <td>includes_CT</td>\n",
       "      <td>June</td>\n",
       "      <td>summer</td>\n",
       "      <td>Thurs</td>\n",
       "      <td>weekday</td>\n",
       "      <td>no</td>\n",
       "    </tr>\n",
       "  </tbody>\n",
       "</table>\n",
       "</div>"
      ],
      "text/plain": [
       "   commentCount  dislikeCount  favoriteCount  likeCount  viewCount     video_id          publishedAt  \\\n",
       "0         739.0         191.0              0    11178.0   274412.0  zfmi2JatvlY  2016-06-24 23:22:46   \n",
       "1        1010.0         224.0              0    11737.0   319477.0  XlawoU0xCwQ  2016-06-23 02:46:20   \n",
       "\n",
       "                  date  week                 channelId                                       title  \\\n",
       "0  2016-06-24 00:00:00    25  UCDHQbU57NZilrhbuZNbQcRA     WHAT'S IN MY TRAVEL BAG | PatrickStarrr   \n",
       "1  2016-06-23 00:00:00    25  UCDHQbU57NZilrhbuZNbQcRA  I AM A GEISHA | JAPAN VLOG | PatrickStarrr   \n",
       "\n",
       "                                         description   channelTitle  categoryId key_word    type  duration  hours  \\\n",
       "0  Hey everyone! I've been traveling a lot lately...  PatrickStarrr          26      NaN  beauty     PT15M      0   \n",
       "1  Discount on TATCHA use code \"PSTARRR\" \\nHuge t...  PatrickStarrr          26      NaN  beauty  PT28M32S      0   \n",
       "\n",
       "   minutes  seconds  total_mins  total_secs  year  month  yearmonth     vlog  title_length  description_length  \\\n",
       "0       15        0          15         900  2016      6     201606  notvlog            39                1516   \n",
       "1       28       32          28        1712  2016      6     201606     vlog            42                1595   \n",
       "\n",
       "  title_channel month_name  season day_of_week type_of_day series  \n",
       "0   includes_CT       June  summer         Fri     weekday     no  \n",
       "1   includes_CT       June  summer       Thurs     weekday     no  "
      ]
     },
     "execution_count": 142,
     "metadata": {},
     "output_type": "execute_result"
    }
   ],
   "source": [
    "del data['Unnamed: 0']\n",
    "del data['Unnamed: 0.1']\n",
    "data.head(2)"
   ]
  },
  {
   "cell_type": "code",
   "execution_count": 87,
   "metadata": {
    "collapsed": false
   },
   "outputs": [
    {
     "data": {
      "text/plain": [
       "11509"
      ]
     },
     "execution_count": 87,
     "metadata": {},
     "output_type": "execute_result"
    }
   ],
   "source": [
    "#determine number of rows in data\n",
    "data.shape[0]"
   ]
  },
  {
   "cell_type": "code",
   "execution_count": 108,
   "metadata": {
    "collapsed": false
   },
   "outputs": [
    {
     "data": {
      "text/plain": [
       "commentCount             37\n",
       "dislikeCount             17\n",
       "favoriteCount             0\n",
       "likeCount                17\n",
       "viewCount                12\n",
       "video_id                  0\n",
       "publishedAt               0\n",
       "date                      0\n",
       "week                      0\n",
       "channelId                 0\n",
       "title                     0\n",
       "description              12\n",
       "channelTitle              0\n",
       "categoryId                0\n",
       "key_word              11193\n",
       "type                      0\n",
       "duration                  0\n",
       "hours                     0\n",
       "minutes                   0\n",
       "seconds                   0\n",
       "total_mins                0\n",
       "total_secs                0\n",
       "year                      0\n",
       "month                     0\n",
       "yearmonth                 0\n",
       "vlog                      0\n",
       "title_length              0\n",
       "description_length        0\n",
       "title_channel             0\n",
       "month_name                0\n",
       "season                    0\n",
       "day_of_week               0\n",
       "type_of_day               0\n",
       "series                    0\n",
       "dtype: int64"
      ]
     },
     "execution_count": 108,
     "metadata": {},
     "output_type": "execute_result"
    }
   ],
   "source": [
    "#check for null values\n",
    "data.isnull().sum()"
   ]
  },
  {
   "cell_type": "code",
   "execution_count": 109,
   "metadata": {
    "collapsed": true
   },
   "outputs": [],
   "source": [
    "data['viewCount'].fillna((data['viewCount'].mean()), inplace=True)"
   ]
  },
  {
   "cell_type": "code",
   "execution_count": 110,
   "metadata": {
    "collapsed": false
   },
   "outputs": [
    {
     "data": {
      "text/html": [
       "<div>\n",
       "<table border=\"1\" class=\"dataframe\">\n",
       "  <thead>\n",
       "    <tr style=\"text-align: right;\">\n",
       "      <th></th>\n",
       "      <th>type</th>\n",
       "      <th>type_of_day</th>\n",
       "      <th>title_length</th>\n",
       "      <th>season</th>\n",
       "    </tr>\n",
       "  </thead>\n",
       "  <tbody>\n",
       "    <tr>\n",
       "      <th>0</th>\n",
       "      <td>beauty</td>\n",
       "      <td>weekday</td>\n",
       "      <td>39</td>\n",
       "      <td>summer</td>\n",
       "    </tr>\n",
       "  </tbody>\n",
       "</table>\n",
       "</div>"
      ],
      "text/plain": [
       "     type type_of_day  title_length  season\n",
       "0  beauty     weekday            39  summer"
      ]
     },
     "execution_count": 110,
     "metadata": {},
     "output_type": "execute_result"
    },
    {
     "data": {
      "text/plain": [
       "0    274412.0\n",
       "Name: viewCount, dtype: float64"
      ]
     },
     "execution_count": 110,
     "metadata": {},
     "output_type": "execute_result"
    },
    {
     "data": {
      "text/plain": [
       "type            0\n",
       "type_of_day     0\n",
       "title_length    0\n",
       "season          0\n",
       "dtype: int64"
      ]
     },
     "execution_count": 110,
     "metadata": {},
     "output_type": "execute_result"
    },
    {
     "data": {
      "text/plain": [
       "0"
      ]
     },
     "execution_count": 110,
     "metadata": {},
     "output_type": "execute_result"
    }
   ],
   "source": [
    "# define data sets\n",
    "#X = data[['type','type_of_day','title_length','season']]\n",
    "X = data[['type','type_of_day','title_length','season']]\n",
    "Y = data['viewCount']\n",
    "\n",
    "# view start of data\n",
    "X.head(1)\n",
    "Y.head(1)\n",
    "\n",
    "# view null values\n",
    "X.isnull().sum()\n",
    "Y.isnull().sum()"
   ]
  },
  {
   "cell_type": "code",
   "execution_count": 111,
   "metadata": {
    "collapsed": false
   },
   "outputs": [
    {
     "data": {
      "text/html": [
       "<div>\n",
       "<table border=\"1\" class=\"dataframe\">\n",
       "  <thead>\n",
       "    <tr style=\"text-align: right;\">\n",
       "      <th></th>\n",
       "      <th>title_length</th>\n",
       "      <th>type_beauty</th>\n",
       "      <th>type_family</th>\n",
       "      <th>type_fashion</th>\n",
       "      <th>type_food</th>\n",
       "      <th>type_gaming</th>\n",
       "      <th>type_lifestyle</th>\n",
       "      <th>type_news</th>\n",
       "      <th>type_science</th>\n",
       "      <th>type_sports</th>\n",
       "      <th>type_of_day_weekday</th>\n",
       "      <th>type_of_day_weekend</th>\n",
       "      <th>season_Fall</th>\n",
       "      <th>season_spring</th>\n",
       "      <th>season_summer</th>\n",
       "      <th>season_winter</th>\n",
       "    </tr>\n",
       "  </thead>\n",
       "  <tbody>\n",
       "    <tr>\n",
       "      <th>0</th>\n",
       "      <td>39</td>\n",
       "      <td>1</td>\n",
       "      <td>0</td>\n",
       "      <td>0</td>\n",
       "      <td>0</td>\n",
       "      <td>0</td>\n",
       "      <td>0</td>\n",
       "      <td>0</td>\n",
       "      <td>0</td>\n",
       "      <td>0</td>\n",
       "      <td>1</td>\n",
       "      <td>0</td>\n",
       "      <td>0</td>\n",
       "      <td>0</td>\n",
       "      <td>1</td>\n",
       "      <td>0</td>\n",
       "    </tr>\n",
       "  </tbody>\n",
       "</table>\n",
       "</div>"
      ],
      "text/plain": [
       "   title_length  type_beauty  type_family  type_fashion  type_food  type_gaming  type_lifestyle  type_news  \\\n",
       "0            39            1            0             0          0            0               0          0   \n",
       "\n",
       "   type_science  type_sports  type_of_day_weekday  type_of_day_weekend  season_Fall  season_spring  season_summer  \\\n",
       "0             0            0                    1                    0            0              0              1   \n",
       "\n",
       "   season_winter  \n",
       "0              0  "
      ]
     },
     "execution_count": 111,
     "metadata": {},
     "output_type": "execute_result"
    },
    {
     "data": {
      "text/plain": [
       "0    274412.0\n",
       "Name: viewCount, dtype: float64"
      ]
     },
     "execution_count": 111,
     "metadata": {},
     "output_type": "execute_result"
    }
   ],
   "source": [
    "# change categorical into separate columns to not bias the data\n",
    "X=pd.get_dummies(X, columns=['type'])\n",
    "X=pd.get_dummies(X, columns=['type_of_day'])\n",
    "X=pd.get_dummies(X, columns=['season'])\n",
    "\n",
    "# view start of data\n",
    "X.head(1)\n",
    "Y.head(1)"
   ]
  },
  {
   "cell_type": "markdown",
   "metadata": {},
   "source": [
    "# Step 2: Run the models"
   ]
  },
  {
   "cell_type": "code",
   "execution_count": 112,
   "metadata": {
    "collapsed": false
   },
   "outputs": [],
   "source": [
    "# Break into train and test sets\n",
    "from sklearn.model_selection import train_test_split\n",
    "X_train, X_test, Y_train, Y_test = train_test_split(X, Y, test_size=0.25)"
   ]
  },
  {
   "cell_type": "code",
   "execution_count": 136,
   "metadata": {
    "collapsed": false
   },
   "outputs": [
    {
     "name": "stdout",
     "output_type": "stream",
     "text": [
      "Multiple Linear Regression\n",
      "Training Set - LR score: 0.240617\n",
      "Testing Set - R2: 0.171281\n"
     ]
    }
   ],
   "source": [
    "print('Multiple Linear Regression')\n",
    "\n",
    "# Don't scale the data for linear regression\n",
    "_='''from sklearn.preprocessing import StandardScaler\n",
    "scaler = StandardScaler().fit(X_train)\n",
    "X_train = scaler.transform(X_train)\n",
    "X_test = scaler.transform(X_test)'''\n",
    "\n",
    "# linear regression\n",
    "from sklearn.linear_model import LinearRegression\n",
    "_=linreg = LinearRegression()\n",
    "_=linreg.fit(X_train, Y_train)\n",
    "_=score=linreg.score(X_train, Y_train)\n",
    "print('Training Set - LR score: %f' % score)\n",
    "\n",
    "# calculate testing data\n",
    "from sklearn.metrics import r2_score\n",
    "y_true, y_pred = Y_test, linreg.predict(X_test)\n",
    "R2 = r2_score(y_true, y_pred, sample_weight=None, multioutput='uniform_average')\n",
    "print('Testing Set - R2: %f' % R2)\n",
    "\n",
    "# get Correlation Coefficient for each feature using Logistic Regression\n",
    "_='''coeff_df = pd.DataFrame(X_train.columns.delete(0))\n",
    "coeff_df.columns = ['Features']\n",
    "coeff_df[\"Coefficient Estimate\"] = pd.Series(logreg.coef_[0])\n",
    "coeff_df'''"
   ]
  },
  {
   "cell_type": "code",
   "execution_count": 137,
   "metadata": {
    "collapsed": false
   },
   "outputs": [
    {
     "name": "stdout",
     "output_type": "stream",
     "text": [
      "Support Vector Regression\n",
      "Training Set - SVR score: -0.164602\n",
      "Testing Set - R2: -0.117321\n"
     ]
    }
   ],
   "source": [
    "print('Support Vector Regression')\n",
    "\n",
    "# Scale the data\n",
    "from sklearn.preprocessing import StandardScaler\n",
    "scaler = StandardScaler().fit(X_train)\n",
    "X_train_scale = scaler.transform(X_train)\n",
    "X_test_scale = scaler.transform(X_test) #need to scale test data the same way that train data was scaled\n",
    "\n",
    "# Support Vector Regression\n",
    "from sklearn.svm import SVR\n",
    "_=regressor=SVR(kernel='rbf') #regressor is an object of the module\n",
    "_=regressor.fit(X_train_scale, Y_train) #use train data to determine regressor\n",
    "_=score=regressor.score(X_train_scale, Y_train)\n",
    "print('Training Set - SVR score: %f' % score)\n",
    "\n",
    "# calculate testing data\n",
    "from sklearn.metrics import r2_score\n",
    "_=y_true, y_pred = Y_test, regressor.predict(X_test_scale)\n",
    "R2 = r2_score(y_true, y_pred, sample_weight=None, multioutput='uniform_average')\n",
    "print('Testing Set - R2: %f' % R2)"
   ]
  },
  {
   "cell_type": "code",
   "execution_count": 138,
   "metadata": {
    "collapsed": false
   },
   "outputs": [
    {
     "name": "stdout",
     "output_type": "stream",
     "text": [
      "Decision Tree Regressor\n",
      "Training Set - DRT score: 0.580265\n",
      "Testing Set - R2: -0.023769\n"
     ]
    }
   ],
   "source": [
    "print('Decision Tree Regressor')\n",
    "\n",
    "# Don't scale the data with Random Forest\n",
    "_='''from sklearn.preprocessing import StandardScaler\n",
    "scaler = StandardScaler().fit(X_train)\n",
    "X_train = scaler.transform(X_train)\n",
    "X_test = scaler.transform(X_test)'''\n",
    "\n",
    "# Random Forest\n",
    "from sklearn.tree import DecisionTreeRegressor\n",
    "_=decision_tree = DecisionTreeRegressor(criterion='mse') #mse = mean square error\n",
    "_=decision_tree.fit(X_train, Y_train)\n",
    "_=score=decision_tree.score(X_train, Y_train)\n",
    "print('Training Set - DRT score: %f' % score)\n",
    "\n",
    "# calculate testing data\n",
    "from sklearn.metrics import r2_score\n",
    "_=y_true, y_pred = Y_test, decision_tree.predict(X_test_scale)\n",
    "R2 = r2_score(y_true, y_pred, sample_weight=None, multioutput='uniform_average')\n",
    "print('Testing Set - R2: %f' % R2)"
   ]
  },
  {
   "cell_type": "code",
   "execution_count": 139,
   "metadata": {
    "collapsed": false
   },
   "outputs": [
    {
     "name": "stdout",
     "output_type": "stream",
     "text": [
      "K Neighbors Regressor\n",
      "Training Set - K Neighbors score: 0.407170\n",
      "Testing Set - R2: 0.132845\n"
     ]
    }
   ],
   "source": [
    "print('K Neighbors Regressor')\n",
    "\n",
    "# Scale the data\n",
    "from sklearn.preprocessing import StandardScaler\n",
    "scaler = StandardScaler().fit(X_train)\n",
    "X_train_scale = scaler.transform(X_train)\n",
    "X_test_scale = scaler.transform(X_test)\n",
    "\n",
    "#K Neighbors Classifier\n",
    "from sklearn.neighbors import KNeighborsRegressor\n",
    "_=knr = KNeighborsRegressor(n_neighbors = 3)\n",
    "_=knr.fit(X_train_scale, Y_train)\n",
    "_=score=knr.score(X_train_scale, Y_train)\n",
    "print('Training Set - K Neighbors score: %f' % score)\n",
    "\n",
    "# calculate testing data\n",
    "from sklearn.metrics import r2_score\n",
    "_=y_true, y_pred = Y_test, knr.predict(X_test_scale)\n",
    "R2 = r2_score(y_true, y_pred, sample_weight=None, multioutput='uniform_average')\n",
    "print('Testing Set - R2: %f' % R2)"
   ]
  },
  {
   "cell_type": "markdown",
   "metadata": {
    "collapsed": false
   },
   "source": [
    "# Step 4: Results"
   ]
  },
  {
   "cell_type": "markdown",
   "metadata": {
    "collapsed": true
   },
   "source": [
    "Thoughts: R2 values are all low for test data sets\n",
    "\n",
    "See Part 4"
   ]
  }
 ],
 "metadata": {
  "kernelspec": {
   "display_name": "Python 3",
   "language": "python",
   "name": "python3"
  },
  "language_info": {
   "codemirror_mode": {
    "name": "ipython",
    "version": 3
   },
   "file_extension": ".py",
   "mimetype": "text/x-python",
   "name": "python",
   "nbconvert_exporter": "python",
   "pygments_lexer": "ipython3",
   "version": "3.6.0"
  }
 },
 "nbformat": 4,
 "nbformat_minor": 2
}
